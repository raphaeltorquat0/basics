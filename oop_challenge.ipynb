{
 "cells": [
  {
   "attachments": {},
   "cell_type": "markdown",
   "metadata": {
    "notebookRunGroups": {
     "groupValue": "1"
    }
   },
   "source": [
    "Object Oriented Programming Chalenge\n",
    " \n"
   ]
  },
  {
   "attachments": {},
   "cell_type": "markdown",
   "metadata": {},
   "source": [
    "For this challenge, create a bank account class that has two attributes:\n",
    "- owner\n",
    "- balance"
   ]
  },
  {
   "attachments": {},
   "cell_type": "markdown",
   "metadata": {},
   "source": [
    "and two methods:\n",
    "- deposit\n",
    "- withdraw"
   ]
  },
  {
   "attachments": {},
   "cell_type": "markdown",
   "metadata": {},
   "source": [
    "As an added requirement, withdrawas may not exceed the available balance.\n",
    "- Intantiate your class, make several deposits and withdrawals, and test to mae sure the account can't be overdrwawn."
   ]
  },
  {
   "cell_type": "code",
   "execution_count": 88,
   "metadata": {},
   "outputs": [],
   "source": [
    "class Account:\n",
    "    \n",
    "    def __init__(self, owner, balance) -> None:\n",
    "        self.owner = owner\n",
    "        self.balance = balance\n",
    "\n",
    "    def deposit(self, amount):\n",
    "        if amount >= 0 :\n",
    "            self.balance = self.balance + amount    \n",
    "            print('Thanks for deposit the amount of: {} Mr.{}'.format(amount, self.owner))\n",
    "            print('Your total balance is the: {}'.format(self.balance))\n",
    "        else:\n",
    "            print('Sorry, this is not a valid amount')\n",
    "            \n",
    "    def withdraw(self, amount):\n",
    "        if amount>= 0:\n",
    "            if self.balance >= amount:\n",
    "                self.balance -= amount\n",
    "                print('withdraw Accepted, Mr. / Miss. {}'.format(self.owner))\n",
    "            else:\n",
    "                print('Sorry, Mr. / Miss. {}, you don`t have this total amount to withdraw'.format(self.owner))\n",
    "    "
   ]
  },
  {
   "cell_type": "code",
   "execution_count": 89,
   "metadata": {},
   "outputs": [],
   "source": [
    "acc_rapha = Account('Raphael Martini Torquato Büchler', 50000)"
   ]
  },
  {
   "cell_type": "code",
   "execution_count": 90,
   "metadata": {},
   "outputs": [
    {
     "name": "stdout",
     "output_type": "stream",
     "text": [
      "<__main__.Account object at 0x7f93fcf267c0>\n"
     ]
    }
   ],
   "source": [
    "print(acc_rapha)"
   ]
  },
  {
   "cell_type": "code",
   "execution_count": 91,
   "metadata": {},
   "outputs": [
    {
     "name": "stdout",
     "output_type": "stream",
     "text": [
      "Thanks for deposit the amount of: 1000000 Mr.Raphael Martini Torquato Büchler\n",
      "Your total balance is the: 1050000\n"
     ]
    }
   ],
   "source": [
    "acc_rapha.deposit(1000000)"
   ]
  },
  {
   "cell_type": "code",
   "execution_count": 92,
   "metadata": {},
   "outputs": [
    {
     "name": "stdout",
     "output_type": "stream",
     "text": [
      "withdraw Accepted, Mr. / Miss. Raphael Martini Torquato Büchler\n"
     ]
    }
   ],
   "source": [
    "acc_rapha.withdraw(500000)"
   ]
  },
  {
   "cell_type": "code",
   "execution_count": 93,
   "metadata": {},
   "outputs": [
    {
     "name": "stdout",
     "output_type": "stream",
     "text": [
      "Sorry, Mr. / Miss. Raphael Martini Torquato Büchler, you don`t have this total amount to withdraw\n"
     ]
    }
   ],
   "source": [
    "acc_rapha.withdraw(999999999999999)"
   ]
  },
  {
   "cell_type": "code",
   "execution_count": null,
   "metadata": {},
   "outputs": [],
   "source": []
  }
 ],
 "metadata": {
  "kernelspec": {
   "display_name": "Python 3 (ipykernel)",
   "language": "python",
   "name": "python3"
  },
  "language_info": {
   "codemirror_mode": {
    "name": "ipython",
    "version": 3
   },
   "file_extension": ".py",
   "mimetype": "text/x-python",
   "name": "python",
   "nbconvert_exporter": "python",
   "pygments_lexer": "ipython3",
   "version": "3.9.13"
  },
  "orig_nbformat": 4
 },
 "nbformat": 4,
 "nbformat_minor": 2
}
