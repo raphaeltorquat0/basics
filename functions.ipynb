{
 "cells": [
  {
   "cell_type": "code",
   "execution_count": 62,
   "metadata": {},
   "outputs": [],
   "source": [
    "def myfunc(a,b):\n",
    "    print(a+b)\n",
    "    return a+b"
   ]
  },
  {
   "cell_type": "code",
   "execution_count": 63,
   "metadata": {},
   "outputs": [
    {
     "name": "stdout",
     "output_type": "stream",
     "text": [
      "30\n"
     ]
    }
   ],
   "source": [
    "result = myfunc(10,20)"
   ]
  },
  {
   "cell_type": "code",
   "execution_count": 64,
   "metadata": {},
   "outputs": [],
   "source": [
    "def sum_numbers(num1,num2):\n",
    "    return num1+num2"
   ]
  },
  {
   "cell_type": "code",
   "execution_count": 65,
   "metadata": {},
   "outputs": [
    {
     "data": {
      "text/plain": [
       "30"
      ]
     },
     "execution_count": 65,
     "metadata": {},
     "output_type": "execute_result"
    }
   ],
   "source": [
    "sum_numbers(10,20)"
   ]
  },
  {
   "cell_type": "code",
   "execution_count": 66,
   "metadata": {},
   "outputs": [
    {
     "data": {
      "text/plain": [
       "'1020'"
      ]
     },
     "execution_count": 66,
     "metadata": {},
     "output_type": "execute_result"
    }
   ],
   "source": [
    "sum_numbers('10','20')"
   ]
  },
  {
   "cell_type": "code",
   "execution_count": 67,
   "metadata": {},
   "outputs": [
    {
     "data": {
      "text/plain": [
       "0"
      ]
     },
     "execution_count": 67,
     "metadata": {},
     "output_type": "execute_result"
    }
   ],
   "source": [
    "2 % 2"
   ]
  },
  {
   "cell_type": "code",
   "execution_count": 68,
   "metadata": {},
   "outputs": [
    {
     "data": {
      "text/plain": [
       "1"
      ]
     },
     "execution_count": 68,
     "metadata": {},
     "output_type": "execute_result"
    }
   ],
   "source": [
    "3 % 2"
   ]
  },
  {
   "cell_type": "code",
   "execution_count": 69,
   "metadata": {},
   "outputs": [
    {
     "data": {
      "text/plain": [
       "1"
      ]
     },
     "execution_count": 69,
     "metadata": {},
     "output_type": "execute_result"
    }
   ],
   "source": [
    "41 % 40"
   ]
  },
  {
   "cell_type": "code",
   "execution_count": 70,
   "metadata": {},
   "outputs": [
    {
     "data": {
      "text/plain": [
       "True"
      ]
     },
     "execution_count": 70,
     "metadata": {},
     "output_type": "execute_result"
    }
   ],
   "source": [
    "20 % 2 == 0"
   ]
  },
  {
   "cell_type": "code",
   "execution_count": 71,
   "metadata": {},
   "outputs": [
    {
     "data": {
      "text/plain": [
       "False"
      ]
     },
     "execution_count": 71,
     "metadata": {},
     "output_type": "execute_result"
    }
   ],
   "source": [
    "21 % 2 == 0"
   ]
  },
  {
   "cell_type": "code",
   "execution_count": 72,
   "metadata": {},
   "outputs": [
    {
     "data": {
      "text/plain": [
       "True"
      ]
     },
     "execution_count": 72,
     "metadata": {},
     "output_type": "execute_result"
    }
   ],
   "source": [
    "def even_check(number):\n",
    "    result = number % 2 == 0\n",
    "    return result\n",
    "even_check(20)\n",
    "#even_check(21)"
   ]
  },
  {
   "cell_type": "code",
   "execution_count": 73,
   "metadata": {},
   "outputs": [
    {
     "data": {
      "text/plain": [
       "[4, 6, 2, 4, 6, 4, 6, 8, 2, 4, 6, 8, 12]"
      ]
     },
     "execution_count": 73,
     "metadata": {},
     "output_type": "execute_result"
    }
   ],
   "source": [
    "#Return true if any number is even inside a list\n",
    "def check_even_list(num_list):\n",
    "    #return all the even numbers in the list\n",
    "    #placeholder variables\n",
    "    even_numbers = []\n",
    "    another_numbers = []\n",
    "    \n",
    "    for number in num_list:\n",
    "        if number % 2 == 0:\n",
    "            even_numbers.append(number)\n",
    "        else:\n",
    "            another_numbers.append(number)\n",
    "    return even_numbers\n",
    "    \n",
    "evenList = [1,3,4,5,6,7,2,4,6,1,4,6,7,8,1,2,4,6,8,5,1,21431,421,12]        \n",
    "check_even_list(evenList)        "
   ]
  },
  {
   "cell_type": "code",
   "execution_count": 74,
   "metadata": {},
   "outputs": [
    {
     "name": "stdout",
     "output_type": "stream",
     "text": [
      "('APPL', 200)\n",
      "('GOOG', 400)\n",
      "('MSFT', 100)\n",
      "220.0\n",
      "440.0\n",
      "110.0\n"
     ]
    }
   ],
   "source": [
    "stock_prices = [(\"APPL\", 200),('GOOG', 400), ('MSFT', 100)]\n",
    "\n",
    "for item in stock_prices:\n",
    "    print(item)\n",
    "\n",
    "for ticker,price in stock_prices:\n",
    "    print(price+(0.1*price))"
   ]
  },
  {
   "cell_type": "code",
   "execution_count": 75,
   "metadata": {},
   "outputs": [
    {
     "name": "stdout",
     "output_type": "stream",
     "text": [
      "('Cassie', 800, '')\n",
      "\n",
      "\n",
      "Cassie \n",
      " 800\n"
     ]
    }
   ],
   "source": [
    "work_hours = [('Abby', 100), ('Billy', 400), ('Cassie', 800)]\n",
    "\n",
    "def employee_check(work_hours):\n",
    "    current_max = 0\n",
    "    employee_of_month = ''\n",
    "    location = ''\n",
    "    \n",
    "    for employee, hours in work_hours:\n",
    "        if hours > current_max:\n",
    "            current_max = hours\n",
    "            employee_of_month = employee\n",
    "        else:\n",
    "            pass\n",
    "        \n",
    "    return (employee_of_month, current_max, location)\n",
    "\n",
    "total_empolyee_work_hours = employee_check(work_hours)\n",
    "print(total_empolyee_work_hours)\n",
    "print(\"\\n\")\n",
    "\n",
    "name, hours,location = employee_check(work_hours)\n",
    "print(f\"{name} \\n {hours}\")"
   ]
  },
  {
   "cell_type": "code",
   "execution_count": 76,
   "metadata": {},
   "outputs": [
    {
     "data": {
      "text/plain": [
       "[1, 4, 6, 5, 7, 2, 3]"
      ]
     },
     "execution_count": 76,
     "metadata": {},
     "output_type": "execute_result"
    }
   ],
   "source": [
    "from random import shuffle\n",
    "\n",
    "example = [1,2,3,4,5,6,7]\n",
    "\n",
    "def shuffle_list(mlist):\n",
    "    shuffle(mlist)\n",
    "    return mlist\n",
    "\n",
    "result = shuffle_list(example)\n",
    "result\n",
    "\n"
   ]
  },
  {
   "cell_type": "code",
   "execution_count": 77,
   "metadata": {},
   "outputs": [
    {
     "data": {
      "text/plain": [
       "0"
      ]
     },
     "execution_count": 77,
     "metadata": {},
     "output_type": "execute_result"
    }
   ],
   "source": [
    "mList = [' ', ' O ', ' ']\n",
    "shuffle_list(mList)\n",
    "\n",
    "\n",
    "def player_guess():\n",
    "    guess=''\n",
    "    while guess not in ['0','1','2']:\n",
    "        guess = input(\"Pick a number: 0,1 or 2\")\n",
    "    \n",
    "    return int(guess)\n",
    "\n",
    "player_guess()"
   ]
  },
  {
   "cell_type": "code",
   "execution_count": 78,
   "metadata": {},
   "outputs": [
    {
     "data": {
      "text/plain": [
       "0"
      ]
     },
     "execution_count": 78,
     "metadata": {},
     "output_type": "execute_result"
    }
   ],
   "source": [
    "mIndex = player_guess()\n",
    "mIndex"
   ]
  },
  {
   "cell_type": "code",
   "execution_count": 79,
   "metadata": {},
   "outputs": [],
   "source": [
    "def check_guess(mList, guess):\n",
    "    if mList[guess] == 'O':\n",
    "        print('Correct!')\n",
    "    else:\n",
    "        print('Wrong guess!')\n",
    "        print(mList)"
   ]
  },
  {
   "cell_type": "code",
   "execution_count": 80,
   "metadata": {},
   "outputs": [
    {
     "name": "stdout",
     "output_type": "stream",
     "text": [
      "Wrong guess!\n",
      "[' O ', ' ', ' ']\n"
     ]
    }
   ],
   "source": [
    "#initial list\n",
    "mlist = [' ', 'O', ' ']\n",
    "#shuffle list\n",
    "mixeup_list = shuffle_list(mList)\n",
    "#user guess\n",
    "guess = player_guess()\n",
    "#check guess\n",
    "check_guess(mixeup_list,guess)"
   ]
  },
  {
   "cell_type": "code",
   "execution_count": 81,
   "metadata": {},
   "outputs": [
    {
     "data": {
      "text/plain": [
       "150.0"
      ]
     },
     "execution_count": 81,
     "metadata": {},
     "output_type": "execute_result"
    }
   ],
   "source": [
    "def myfunc(num1,num2,num3=3,num4=0):\n",
    "    #returns 5% of the sum of num1 and num2\n",
    "    return sum((num1,num2,num3,num4)) * 0.5\n",
    "\n",
    "myfunc(40,60,100,100)"
   ]
  },
  {
   "cell_type": "code",
   "execution_count": 82,
   "metadata": {},
   "outputs": [
    {
     "data": {
      "text/plain": [
       "130.1"
      ]
     },
     "execution_count": 82,
     "metadata": {},
     "output_type": "execute_result"
    }
   ],
   "source": [
    "def myfunc(*num):\n",
    "    for item in num:\n",
    "        return sum(num) * 0.05\n",
    "\n",
    "myfunc(40,60,100,600,100,2,800,900)"
   ]
  },
  {
   "cell_type": "code",
   "execution_count": 83,
   "metadata": {},
   "outputs": [
    {
     "name": "stdout",
     "output_type": "stream",
     "text": [
      "{'fruit': 'apple', 'veggie': 'lettuce'}\n",
      "My fruit of choice is apple\n"
     ]
    }
   ],
   "source": [
    "def myfunc(**kwargs):\n",
    "    print(kwargs)\n",
    "    if 'fruit' in kwargs:\n",
    "        print('My fruit of choice is {}'.format(kwargs['fruit']))\n",
    "    else:\n",
    "        print('I did not find any fruit here')\n",
    "\n",
    "myfunc(fruit='apple', veggie = 'lettuce')"
   ]
  },
  {
   "cell_type": "code",
   "execution_count": 84,
   "metadata": {},
   "outputs": [
    {
     "name": "stdout",
     "output_type": "stream",
     "text": [
      "(10, 20, 30)\n",
      "{'fruit': 'orange', 'food': 'eggs', 'animal': 'dog'}\n",
      "I would like 10 eggs\n"
     ]
    }
   ],
   "source": [
    "def myfunc(*args, **kwargs):\n",
    "    print(args)\n",
    "    print(kwargs)\n",
    "    print('I would like {} {}'.format(args[0],kwargs['food']))\n",
    "    \n",
    "myfunc(10,20,30, fruit='orange', food='eggs', animal='dog')"
   ]
  },
  {
   "cell_type": "code",
   "execution_count": 85,
   "metadata": {},
   "outputs": [
    {
     "name": "stdout",
     "output_type": "stream",
     "text": [
      "HsUiAhUiSaHsAhSa\n"
     ]
    }
   ],
   "source": [
    "def myfunc(kword):\n",
    "    result = ''\n",
    "    index = 0 \n",
    "    \n",
    "    for letter in kword:\n",
    "        if index % 2 == 0:\n",
    "            result += letter.upper()\n",
    "        else:\n",
    "            result += letter.lower()\n",
    "        index += 1\n",
    "    return result\n"
   ]
  },
  {
   "cell_type": "code",
   "execution_count": 29,
   "metadata": {},
   "outputs": [],
   "source": [
    "def lesser_of_two_events(a,b):\n",
    "    if a and b % 2 == 0:\n",
    "        return min(a,b)\n",
    "    else:\n",
    "        return max(a,b)\n",
    "\n",
    "\n",
    "result = lesser_of_two_events(2,7)\n"
   ]
  },
  {
   "cell_type": "code",
   "execution_count": 36,
   "metadata": {},
   "outputs": [
    {
     "name": "stdout",
     "output_type": "stream",
     "text": [
      "True\n"
     ]
    }
   ],
   "source": [
    "def animal_crackers(text):\n",
    "    animal_list = text.lower().split()\n",
    "    firstChar = animal_list[0]\n",
    "    secondChar = animal_list[1]\n",
    "    return firstChar[0] == secondChar[0]\n",
    "                \n",
    "            \n",
    "result = animal_crackers(\"Crazy cat\")\n",
    "print(result)"
   ]
  },
  {
   "cell_type": "code",
   "execution_count": 40,
   "metadata": {},
   "outputs": [
    {
     "name": "stdout",
     "output_type": "stream",
     "text": [
      "False\n"
     ]
    }
   ],
   "source": [
    "def makes_twenty(n1,n2):\n",
    "    return (n1+n2) == 20 or n1 == 20 or n2 == 20\n",
    "    \n",
    "result = makes_twenty(1,3)\n",
    "print(result)"
   ]
  },
  {
   "cell_type": "code",
   "execution_count": 46,
   "metadata": {},
   "outputs": [],
   "source": [
    "def old_macdonald(name):\n",
    "    first_half = name[:3]\n",
    "    second_half = name[3:]\n",
    "    \n",
    "    return first_half.capitalize() + second_half.capitalize()"
   ]
  },
  {
   "cell_type": "code",
   "execution_count": 47,
   "metadata": {},
   "outputs": [
    {
     "data": {
      "text/plain": [
       "'MacDonald'"
      ]
     },
     "execution_count": 47,
     "metadata": {},
     "output_type": "execute_result"
    }
   ],
   "source": [
    "old_macdonald('macdonald')"
   ]
  },
  {
   "cell_type": "code",
   "execution_count": 57,
   "metadata": {},
   "outputs": [],
   "source": [
    "def master_yoda(text):\n",
    "    word_list = text.split()\n",
    "    reverse_word_list = word_list[::-1]\n",
    "    return ' '.join(reverse_word_list)"
   ]
  },
  {
   "cell_type": "code",
   "execution_count": 58,
   "metadata": {},
   "outputs": [
    {
     "data": {
      "text/plain": [
       "'fome de morrendo Estou'"
      ]
     },
     "execution_count": 58,
     "metadata": {},
     "output_type": "execute_result"
    }
   ],
   "source": [
    "master_yoda('Estou morrendo de fome')"
   ]
  },
  {
   "cell_type": "code",
   "execution_count": 54,
   "metadata": {},
   "outputs": [
    {
     "data": {
      "text/plain": [
       "'a b c'"
      ]
     },
     "execution_count": 54,
     "metadata": {},
     "output_type": "execute_result"
    }
   ],
   "source": [
    "mylist = ['a', 'b', 'c']\n",
    "' '.join(mylist)"
   ]
  },
  {
   "cell_type": "code",
   "execution_count": 59,
   "metadata": {},
   "outputs": [],
   "source": [
    "def almost_here(n):\n",
    "    return (abs(100-n) <= 10) or (abs(200-n) <= 10)"
   ]
  },
  {
   "cell_type": "code",
   "execution_count": 60,
   "metadata": {},
   "outputs": [
    {
     "data": {
      "text/plain": [
       "True"
      ]
     },
     "execution_count": 60,
     "metadata": {},
     "output_type": "execute_result"
    }
   ],
   "source": [
    "almost_here(104)"
   ]
  },
  {
   "cell_type": "code",
   "execution_count": 61,
   "metadata": {},
   "outputs": [
    {
     "data": {
      "text/plain": [
       "False"
      ]
     },
     "execution_count": 61,
     "metadata": {},
     "output_type": "execute_result"
    }
   ],
   "source": [
    "almost_here(150)"
   ]
  },
  {
   "cell_type": "code",
   "execution_count": 62,
   "metadata": {},
   "outputs": [
    {
     "data": {
      "text/plain": [
       "True"
      ]
     },
     "execution_count": 62,
     "metadata": {},
     "output_type": "execute_result"
    }
   ],
   "source": [
    "almost_here(209)"
   ]
  },
  {
   "cell_type": "code",
   "execution_count": 64,
   "metadata": {},
   "outputs": [],
   "source": [
    "def has_33(nums):\n",
    "    for i in range(0, len(nums)-1):\n",
    "        if nums[i:i+2] == [3,3]:\n",
    "            return True\n",
    "    return False"
   ]
  },
  {
   "cell_type": "code",
   "execution_count": 66,
   "metadata": {},
   "outputs": [
    {
     "data": {
      "text/plain": [
       "True"
      ]
     },
     "execution_count": 66,
     "metadata": {},
     "output_type": "execute_result"
    }
   ],
   "source": [
    "has_33([1,3,3])"
   ]
  },
  {
   "cell_type": "code",
   "execution_count": 67,
   "metadata": {},
   "outputs": [],
   "source": [
    "def paper_doll(text):\n",
    "    result = ''\n",
    "    \n",
    "    for char in text:\n",
    "        result += char*3\n",
    "    return result"
   ]
  },
  {
   "cell_type": "code",
   "execution_count": 68,
   "metadata": {},
   "outputs": [
    {
     "data": {
      "text/plain": [
       "'HHHeeellllllooo'"
      ]
     },
     "execution_count": 68,
     "metadata": {},
     "output_type": "execute_result"
    }
   ],
   "source": [
    "paper_doll('Hello')"
   ]
  },
  {
   "cell_type": "code",
   "execution_count": 69,
   "metadata": {},
   "outputs": [],
   "source": [
    "def blackjack(a,b,c):\n",
    "    if sum([a,b,c]) <= 21:\n",
    "        return sum([a,b,c])\n",
    "    elif 11 in [a,b,c] and sum([a,b,c]) <= 31:\n",
    "        return sum([a,b,c])-10\n",
    "    else:\n",
    "        return \"BUST\""
   ]
  },
  {
   "cell_type": "code",
   "execution_count": 70,
   "metadata": {},
   "outputs": [
    {
     "data": {
      "text/plain": [
       "18"
      ]
     },
     "execution_count": 70,
     "metadata": {},
     "output_type": "execute_result"
    }
   ],
   "source": [
    "blackjack(5,6,7)"
   ]
  },
  {
   "cell_type": "code",
   "execution_count": 73,
   "metadata": {},
   "outputs": [],
   "source": [
    "def summer_69(arr):\n",
    "    total = 0\n",
    "    add = True\n",
    "    \n",
    "    for num in arr:\n",
    "        while add:\n",
    "            if num != 6:\n",
    "                total += num\n",
    "                break\n",
    "            else:\n",
    "                add = False\n",
    "        while not add:\n",
    "            if num != 9:\n",
    "                break\n",
    "            else:\n",
    "                add = True\n",
    "                break\n",
    "    return total"
   ]
  },
  {
   "cell_type": "code",
   "execution_count": 74,
   "metadata": {},
   "outputs": [
    {
     "data": {
      "text/plain": [
       "9"
      ]
     },
     "execution_count": 74,
     "metadata": {},
     "output_type": "execute_result"
    }
   ],
   "source": [
    "summer_69([1,3,5])"
   ]
  },
  {
   "cell_type": "code",
   "execution_count": 75,
   "metadata": {},
   "outputs": [
    {
     "data": {
      "text/plain": [
       "9"
      ]
     },
     "execution_count": 75,
     "metadata": {},
     "output_type": "execute_result"
    }
   ],
   "source": [
    "summer_69([4,5,6,7,8,9])"
   ]
  },
  {
   "cell_type": "code",
   "execution_count": null,
   "metadata": {},
   "outputs": [],
   "source": [
    "summer_69([4,5,6,7,8,9])"
   ]
  },
  {
   "cell_type": "markdown",
   "metadata": {},
   "source": []
  },
  {
   "cell_type": "code",
   "execution_count": 76,
   "metadata": {},
   "outputs": [],
   "source": [
    "def spy_game(nums):\n",
    "    code_list = [0,0,7,'x']\n",
    "    #[0,7,'x']\n",
    "    #[7,'x']\n",
    "    #['x'] lenght = 1\n",
    "    for num in nums:\n",
    "        if num == code_list[0]:\n",
    "            code_list.pop(0)\n",
    "    return len(code_list) == 1\n",
    "    "
   ]
  },
  {
   "cell_type": "code",
   "execution_count": 77,
   "metadata": {},
   "outputs": [
    {
     "data": {
      "text/plain": [
       "True"
      ]
     },
     "execution_count": 77,
     "metadata": {},
     "output_type": "execute_result"
    }
   ],
   "source": [
    "spy_game([1,2,4,0,0,7,5])"
   ]
  },
  {
   "cell_type": "code",
   "execution_count": 78,
   "metadata": {},
   "outputs": [
    {
     "data": {
      "text/plain": [
       "True"
      ]
     },
     "execution_count": 78,
     "metadata": {},
     "output_type": "execute_result"
    }
   ],
   "source": [
    "spy_game([1,0,2,4,0,5,7])"
   ]
  },
  {
   "cell_type": "code",
   "execution_count": 80,
   "metadata": {},
   "outputs": [
    {
     "data": {
      "text/plain": [
       "False"
      ]
     },
     "execution_count": 80,
     "metadata": {},
     "output_type": "execute_result"
    }
   ],
   "source": [
    "spy_game([1,7,2,4,0,5,0])"
   ]
  },
  {
   "cell_type": "code",
   "execution_count": 81,
   "metadata": {},
   "outputs": [],
   "source": [
    "def count_primes(num):\n",
    "    \n",
    "    #check for 0 or 1 input\n",
    "    if num < 2:\n",
    "        return 0\n",
    "    \n",
    "    ################\n",
    "    ##2 or greater##\n",
    "    ################\n",
    "     \n",
    "    #Store our prime numbers\n",
    "    primes = [2] \n",
    "    \n",
    "    #counter going up to the input num\n",
    "    x = 3\n",
    "    \n",
    "    #x is going through every number up to input num\n",
    "    while x <= num:\n",
    "        #check if x is prime\n",
    "        for y in range(3,x,2):\n",
    "            if x%y == 0:\n",
    "                x += 2\n",
    "                break\n",
    "        else:\n",
    "            primes.append(x)\n",
    "            x += 2\n",
    "    print(primes)\n",
    "    return len(primes)\n",
    "    "
   ]
  },
  {
   "cell_type": "code",
   "execution_count": null,
   "metadata": {},
   "outputs": [],
   "source": []
  }
 ],
 "metadata": {
  "kernelspec": {
   "display_name": "Python 3 (ipykernel)",
   "language": "python",
   "name": "python3"
  },
  "language_info": {
   "codemirror_mode": {
    "name": "ipython",
    "version": 3
   },
   "file_extension": ".py",
   "mimetype": "text/x-python",
   "name": "python",
   "nbconvert_exporter": "python",
   "pygments_lexer": "ipython3",
   "version": "3.9.13"
  },
  "orig_nbformat": 4
 },
 "nbformat": 4,
 "nbformat_minor": 2
}
