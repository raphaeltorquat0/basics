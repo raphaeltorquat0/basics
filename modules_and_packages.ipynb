{
 "cells": [
  {
   "cell_type": "markdown",
   "metadata": {},
   "source": [
    "Pip install and Pypi"
   ]
  },
  {
   "attachments": {},
   "cell_type": "markdown",
   "metadata": {},
   "source": [
    "- So far we've really only used libraries that come internally with Python.\n",
    "- There are many other libraries available that people have open-sourced and shared on Pypi.\n",
    "- We can use pip install at the command tline to install these packages."
   ]
  },
  {
   "attachments": {},
   "cell_type": "markdown",
   "metadata": {},
   "source": [
    "Whats is Pip?"
   ]
  },
  {
   "attachments": {},
   "cell_type": "markdown",
   "metadata": {},
   "source": [
    "- By installing Python from python.org or through the Anaconda distribution you also installed pip.\n",
    "- pip is a simple way to download packages at your command line directly from the PyPi repository\n",
    "- There are packages already created for almost any use case you can think of!\n",
    "- A quick google search will usually help you discover a link to the Pypi page for the package, or for the package documentation."
   ]
  },
  {
   "attachments": {},
   "cell_type": "markdown",
   "metadata": {},
   "source": [
    "Lets expore how to create our own modules and packages."
   ]
  },
  {
   "attachments": {},
   "cell_type": "markdown",
   "metadata": {},
   "source": [
    "- modules are just .py scripts that you call in another .py script.\n",
    "- packages are a collection of modules."
   ]
  },
  {
   "attachments": {},
   "cell_type": "markdown",
   "metadata": {},
   "source": [
    "__ name __ and \"__ main __\"."
   ]
  },
  {
   "attachments": {},
   "cell_type": "markdown",
   "metadata": {},
   "source": [
    "An often consufing part of Python is a mysterious line of code:"
   ]
  },
  {
   "attachments": {},
   "cell_type": "markdown",
   "metadata": {},
   "source": [
    "- if __ name __ == \"__ main __\":"
   ]
  },
  {
   "attachments": {},
   "cell_type": "markdown",
   "metadata": {},
   "source": [
    "- Sometimes when you are importing from a module, you would like to know whether a modules function is being used as as import, or if you are using the original .py file of that module."
   ]
  },
  {
   "cell_type": "markdown",
   "metadata": {},
   "source": []
  }
 ],
 "metadata": {
  "language_info": {
   "name": "python"
  },
  "orig_nbformat": 4
 },
 "nbformat": 4,
 "nbformat_minor": 2
}
